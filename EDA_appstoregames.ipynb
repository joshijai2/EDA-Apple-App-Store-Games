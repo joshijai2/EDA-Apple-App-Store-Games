{
 "cells": [
  {
   "cell_type": "markdown",
   "metadata": {},
   "source": [
    "# App Store Games Analysis"
   ]
  },
  {
   "cell_type": "markdown",
   "metadata": {},
   "source": [
    "#### To expose the best combination for strategy games available in the appstore in order to get a good user rating (4.0/5.0 and above) "
   ]
  },
  {
   "cell_type": "markdown",
   "metadata": {},
   "source": [
    "Import the numpy, pandas and data visualization libraries."
   ]
  },
  {
   "cell_type": "code",
   "execution_count": 1,
   "metadata": {},
   "outputs": [],
   "source": [
    "import numpy as np\n",
    "import pandas as pd"
   ]
  },
  {
   "cell_type": "code",
   "execution_count": 2,
   "metadata": {},
   "outputs": [],
   "source": [
    "import matplotlib.pyplot as plt\n",
    "import seaborn as sns\n",
    "%matplotlib inline"
   ]
  },
  {
   "cell_type": "markdown",
   "metadata": {},
   "source": [
    "Read the csv file ('appstore_games.csv') with the appstore games data."
   ]
  },
  {
   "cell_type": "code",
   "execution_count": 3,
   "metadata": {},
   "outputs": [],
   "source": [
    "games = pd.read_csv('appstore_games.csv', index_col='Name')"
   ]
  },
  {
   "cell_type": "markdown",
   "metadata": {},
   "source": [
    "Lets view the data using .head() and .info()."
   ]
  },
  {
   "cell_type": "code",
   "execution_count": 4,
   "metadata": {},
   "outputs": [
    {
     "data": {
      "text/html": [
       "<div>\n",
       "<style scoped>\n",
       "    .dataframe tbody tr th:only-of-type {\n",
       "        vertical-align: middle;\n",
       "    }\n",
       "\n",
       "    .dataframe tbody tr th {\n",
       "        vertical-align: top;\n",
       "    }\n",
       "\n",
       "    .dataframe thead th {\n",
       "        text-align: right;\n",
       "    }\n",
       "</style>\n",
       "<table border=\"1\" class=\"dataframe\">\n",
       "  <thead>\n",
       "    <tr style=\"text-align: right;\">\n",
       "      <th></th>\n",
       "      <th>URL</th>\n",
       "      <th>ID</th>\n",
       "      <th>Subtitle</th>\n",
       "      <th>Icon URL</th>\n",
       "      <th>Average User Rating</th>\n",
       "      <th>User Rating Count</th>\n",
       "      <th>Price</th>\n",
       "      <th>In-app Purchases</th>\n",
       "      <th>Description</th>\n",
       "      <th>Developer</th>\n",
       "      <th>Age Rating</th>\n",
       "      <th>Languages</th>\n",
       "      <th>Size</th>\n",
       "      <th>Primary Genre</th>\n",
       "      <th>Genres</th>\n",
       "      <th>Original Release Date</th>\n",
       "      <th>Current Version Release Date</th>\n",
       "    </tr>\n",
       "    <tr>\n",
       "      <th>Name</th>\n",
       "      <th></th>\n",
       "      <th></th>\n",
       "      <th></th>\n",
       "      <th></th>\n",
       "      <th></th>\n",
       "      <th></th>\n",
       "      <th></th>\n",
       "      <th></th>\n",
       "      <th></th>\n",
       "      <th></th>\n",
       "      <th></th>\n",
       "      <th></th>\n",
       "      <th></th>\n",
       "      <th></th>\n",
       "      <th></th>\n",
       "      <th></th>\n",
       "      <th></th>\n",
       "    </tr>\n",
       "  </thead>\n",
       "  <tbody>\n",
       "    <tr>\n",
       "      <th>Sudoku</th>\n",
       "      <td>https://apps.apple.com/us/app/sudoku/id284921427</td>\n",
       "      <td>284921427</td>\n",
       "      <td>NaN</td>\n",
       "      <td>https://is2-ssl.mzstatic.com/image/thumb/Purpl...</td>\n",
       "      <td>4.0</td>\n",
       "      <td>3553.0</td>\n",
       "      <td>2.99</td>\n",
       "      <td>NaN</td>\n",
       "      <td>Join over 21,000,000 of our fans and download ...</td>\n",
       "      <td>Mighty Mighty Good Games</td>\n",
       "      <td>4+</td>\n",
       "      <td>DA, NL, EN, FI, FR, DE, IT, JA, KO, NB, PL, PT...</td>\n",
       "      <td>15853568.0</td>\n",
       "      <td>Games</td>\n",
       "      <td>Games, Strategy, Puzzle</td>\n",
       "      <td>11-07-2008</td>\n",
       "      <td>30-05-2017</td>\n",
       "    </tr>\n",
       "    <tr>\n",
       "      <th>Reversi</th>\n",
       "      <td>https://apps.apple.com/us/app/reversi/id284926400</td>\n",
       "      <td>284926400</td>\n",
       "      <td>NaN</td>\n",
       "      <td>https://is4-ssl.mzstatic.com/image/thumb/Purpl...</td>\n",
       "      <td>3.5</td>\n",
       "      <td>284.0</td>\n",
       "      <td>1.99</td>\n",
       "      <td>NaN</td>\n",
       "      <td>The classic game of Reversi, also known as Oth...</td>\n",
       "      <td>Kiss The Machine</td>\n",
       "      <td>4+</td>\n",
       "      <td>EN</td>\n",
       "      <td>12328960.0</td>\n",
       "      <td>Games</td>\n",
       "      <td>Games, Strategy, Board</td>\n",
       "      <td>11-07-2008</td>\n",
       "      <td>17-05-2018</td>\n",
       "    </tr>\n",
       "    <tr>\n",
       "      <th>Morocco</th>\n",
       "      <td>https://apps.apple.com/us/app/morocco/id284946595</td>\n",
       "      <td>284946595</td>\n",
       "      <td>NaN</td>\n",
       "      <td>https://is5-ssl.mzstatic.com/image/thumb/Purpl...</td>\n",
       "      <td>3.0</td>\n",
       "      <td>8376.0</td>\n",
       "      <td>0.00</td>\n",
       "      <td>NaN</td>\n",
       "      <td>Play the classic strategy game Othello (also k...</td>\n",
       "      <td>Bayou Games</td>\n",
       "      <td>4+</td>\n",
       "      <td>EN</td>\n",
       "      <td>674816.0</td>\n",
       "      <td>Games</td>\n",
       "      <td>Games, Board, Strategy</td>\n",
       "      <td>11-07-2008</td>\n",
       "      <td>05-09-2017</td>\n",
       "    </tr>\n",
       "    <tr>\n",
       "      <th>Sudoku (Free)</th>\n",
       "      <td>https://apps.apple.com/us/app/sudoku-free/id28...</td>\n",
       "      <td>285755462</td>\n",
       "      <td>NaN</td>\n",
       "      <td>https://is3-ssl.mzstatic.com/image/thumb/Purpl...</td>\n",
       "      <td>3.5</td>\n",
       "      <td>190394.0</td>\n",
       "      <td>0.00</td>\n",
       "      <td>NaN</td>\n",
       "      <td>Top 100 free app for over a year.\\nRated \"Best...</td>\n",
       "      <td>Mighty Mighty Good Games</td>\n",
       "      <td>4+</td>\n",
       "      <td>DA, NL, EN, FI, FR, DE, IT, JA, KO, NB, PL, PT...</td>\n",
       "      <td>21552128.0</td>\n",
       "      <td>Games</td>\n",
       "      <td>Games, Strategy, Puzzle</td>\n",
       "      <td>23-07-2008</td>\n",
       "      <td>30-05-2017</td>\n",
       "    </tr>\n",
       "    <tr>\n",
       "      <th>Senet Deluxe</th>\n",
       "      <td>https://apps.apple.com/us/app/senet-deluxe/id2...</td>\n",
       "      <td>285831220</td>\n",
       "      <td>NaN</td>\n",
       "      <td>https://is1-ssl.mzstatic.com/image/thumb/Purpl...</td>\n",
       "      <td>3.5</td>\n",
       "      <td>28.0</td>\n",
       "      <td>2.99</td>\n",
       "      <td>NaN</td>\n",
       "      <td>\"Senet Deluxe - The Ancient Game of Life and A...</td>\n",
       "      <td>RoGame Software</td>\n",
       "      <td>4+</td>\n",
       "      <td>DA, NL, EN, FR, DE, EL, IT, JA, KO, NO, PT, RU...</td>\n",
       "      <td>34689024.0</td>\n",
       "      <td>Games</td>\n",
       "      <td>Games, Strategy, Board, Education</td>\n",
       "      <td>18-07-2008</td>\n",
       "      <td>22-07-2018</td>\n",
       "    </tr>\n",
       "  </tbody>\n",
       "</table>\n",
       "</div>"
      ],
      "text/plain": [
       "                                                             URL         ID  \\\n",
       "Name                                                                          \n",
       "Sudoku          https://apps.apple.com/us/app/sudoku/id284921427  284921427   \n",
       "Reversi        https://apps.apple.com/us/app/reversi/id284926400  284926400   \n",
       "Morocco        https://apps.apple.com/us/app/morocco/id284946595  284946595   \n",
       "Sudoku (Free)  https://apps.apple.com/us/app/sudoku-free/id28...  285755462   \n",
       "Senet Deluxe   https://apps.apple.com/us/app/senet-deluxe/id2...  285831220   \n",
       "\n",
       "              Subtitle                                           Icon URL  \\\n",
       "Name                                                                        \n",
       "Sudoku             NaN  https://is2-ssl.mzstatic.com/image/thumb/Purpl...   \n",
       "Reversi            NaN  https://is4-ssl.mzstatic.com/image/thumb/Purpl...   \n",
       "Morocco            NaN  https://is5-ssl.mzstatic.com/image/thumb/Purpl...   \n",
       "Sudoku (Free)      NaN  https://is3-ssl.mzstatic.com/image/thumb/Purpl...   \n",
       "Senet Deluxe       NaN  https://is1-ssl.mzstatic.com/image/thumb/Purpl...   \n",
       "\n",
       "               Average User Rating  User Rating Count  Price In-app Purchases  \\\n",
       "Name                                                                            \n",
       "Sudoku                         4.0             3553.0   2.99              NaN   \n",
       "Reversi                        3.5              284.0   1.99              NaN   \n",
       "Morocco                        3.0             8376.0   0.00              NaN   \n",
       "Sudoku (Free)                  3.5           190394.0   0.00              NaN   \n",
       "Senet Deluxe                   3.5               28.0   2.99              NaN   \n",
       "\n",
       "                                                     Description  \\\n",
       "Name                                                               \n",
       "Sudoku         Join over 21,000,000 of our fans and download ...   \n",
       "Reversi        The classic game of Reversi, also known as Oth...   \n",
       "Morocco        Play the classic strategy game Othello (also k...   \n",
       "Sudoku (Free)  Top 100 free app for over a year.\\nRated \"Best...   \n",
       "Senet Deluxe   \"Senet Deluxe - The Ancient Game of Life and A...   \n",
       "\n",
       "                              Developer Age Rating  \\\n",
       "Name                                                 \n",
       "Sudoku         Mighty Mighty Good Games         4+   \n",
       "Reversi                Kiss The Machine         4+   \n",
       "Morocco                     Bayou Games         4+   \n",
       "Sudoku (Free)  Mighty Mighty Good Games         4+   \n",
       "Senet Deluxe            RoGame Software         4+   \n",
       "\n",
       "                                                       Languages        Size  \\\n",
       "Name                                                                           \n",
       "Sudoku         DA, NL, EN, FI, FR, DE, IT, JA, KO, NB, PL, PT...  15853568.0   \n",
       "Reversi                                                       EN  12328960.0   \n",
       "Morocco                                                       EN    674816.0   \n",
       "Sudoku (Free)  DA, NL, EN, FI, FR, DE, IT, JA, KO, NB, PL, PT...  21552128.0   \n",
       "Senet Deluxe   DA, NL, EN, FR, DE, EL, IT, JA, KO, NO, PT, RU...  34689024.0   \n",
       "\n",
       "              Primary Genre                             Genres  \\\n",
       "Name                                                             \n",
       "Sudoku                Games            Games, Strategy, Puzzle   \n",
       "Reversi               Games             Games, Strategy, Board   \n",
       "Morocco               Games             Games, Board, Strategy   \n",
       "Sudoku (Free)         Games            Games, Strategy, Puzzle   \n",
       "Senet Deluxe          Games  Games, Strategy, Board, Education   \n",
       "\n",
       "              Original Release Date Current Version Release Date  \n",
       "Name                                                              \n",
       "Sudoku                   11-07-2008                   30-05-2017  \n",
       "Reversi                  11-07-2008                   17-05-2018  \n",
       "Morocco                  11-07-2008                   05-09-2017  \n",
       "Sudoku (Free)            23-07-2008                   30-05-2017  \n",
       "Senet Deluxe             18-07-2008                   22-07-2018  "
      ]
     },
     "execution_count": 4,
     "metadata": {},
     "output_type": "execute_result"
    }
   ],
   "source": [
    "games.head()"
   ]
  },
  {
   "cell_type": "code",
   "execution_count": 5,
   "metadata": {},
   "outputs": [
    {
     "name": "stdout",
     "output_type": "stream",
     "text": [
      "<class 'pandas.core.frame.DataFrame'>\n",
      "Index: 17007 entries, Sudoku to The Three Kingdoms :Bomb\n",
      "Data columns (total 17 columns):\n",
      " #   Column                        Non-Null Count  Dtype  \n",
      "---  ------                        --------------  -----  \n",
      " 0   URL                           17007 non-null  object \n",
      " 1   ID                            17007 non-null  int64  \n",
      " 2   Subtitle                      5261 non-null   object \n",
      " 3   Icon URL                      17007 non-null  object \n",
      " 4   Average User Rating           7561 non-null   float64\n",
      " 5   User Rating Count             7561 non-null   float64\n",
      " 6   Price                         16983 non-null  float64\n",
      " 7   In-app Purchases              7683 non-null   object \n",
      " 8   Description                   17007 non-null  object \n",
      " 9   Developer                     17007 non-null  object \n",
      " 10  Age Rating                    17007 non-null  object \n",
      " 11  Languages                     16947 non-null  object \n",
      " 12  Size                          17006 non-null  float64\n",
      " 13  Primary Genre                 17007 non-null  object \n",
      " 14  Genres                        17007 non-null  object \n",
      " 15  Original Release Date         17007 non-null  object \n",
      " 16  Current Version Release Date  17007 non-null  object \n",
      "dtypes: float64(4), int64(1), object(12)\n",
      "memory usage: 2.3+ MB\n"
     ]
    }
   ],
   "source": [
    "games.info()"
   ]
  },
  {
   "cell_type": "markdown",
   "metadata": {},
   "source": [
    "Dropping all the worthless columns(almost all the columns with object data type)."
   ]
  },
  {
   "cell_type": "code",
   "execution_count": 6,
   "metadata": {},
   "outputs": [],
   "source": [
    "games.drop(['URL', 'ID', 'Subtitle', 'Icon URL', 'In-app Purchases', 'Description', 'Developer', 'Languages', 'Primary Genre', 'Original Release Date'],axis = 1, inplace = True)"
   ]
  },
  {
   "cell_type": "markdown",
   "metadata": {},
   "source": [
    "Remove missing values from the dataset."
   ]
  },
  {
   "cell_type": "code",
   "execution_count": 7,
   "metadata": {},
   "outputs": [],
   "source": [
    "games.dropna(inplace = True)"
   ]
  },
  {
   "cell_type": "markdown",
   "metadata": {},
   "source": [
    "Cleaning the data further."
   ]
  },
  {
   "cell_type": "code",
   "execution_count": 8,
   "metadata": {},
   "outputs": [],
   "source": [
    "games = games[games['User Rating Count'] > 500]"
   ]
  },
  {
   "cell_type": "code",
   "execution_count": 9,
   "metadata": {},
   "outputs": [],
   "source": [
    "games = games[games['Price']<100]"
   ]
  },
  {
   "cell_type": "code",
   "execution_count": 10,
   "metadata": {},
   "outputs": [],
   "source": [
    "games['Age Rating'] = games['Age Rating'].str.rstrip('+').astype('int')"
   ]
  },
  {
   "cell_type": "markdown",
   "metadata": {},
   "source": [
    "Converting String to Tuple in Genres column."
   ]
  },
  {
   "cell_type": "code",
   "execution_count": 11,
   "metadata": {},
   "outputs": [],
   "source": [
    "games['Genres'] = games.Genres.apply(lambda x: tuple(sorted(x.split(', '))))"
   ]
  },
  {
   "cell_type": "markdown",
   "metadata": {},
   "source": [
    "Converting the date(string) to tuple so that it can be used in analysis(like month and year of the latest update)."
   ]
  },
  {
   "cell_type": "code",
   "execution_count": 12,
   "metadata": {},
   "outputs": [],
   "source": [
    "games['Current Version Release Date'] = games['Current Version Release Date'].apply(lambda x: x[3:]).apply(lambda x: tuple(sorted(x.split('-'))))"
   ]
  },
  {
   "cell_type": "markdown",
   "metadata": {},
   "source": [
    "Scaling down the columns - User Rating Count, Size."
   ]
  },
  {
   "cell_type": "code",
   "execution_count": 13,
   "metadata": {},
   "outputs": [],
   "source": [
    "games['User Rating Count'] = games['User Rating Count'].apply(lambda x: x/1000000)\n",
    "games['Size'] = games['Size'].apply(lambda x: x/1048576)"
   ]
  },
  {
   "cell_type": "code",
   "execution_count": 14,
   "metadata": {
    "scrolled": true
   },
   "outputs": [
    {
     "name": "stdout",
     "output_type": "stream",
     "text": [
      "<class 'pandas.core.frame.DataFrame'>\n",
      "Index: 1563 entries, Sudoku to Idle Zoo Tycoon 3D\n",
      "Data columns (total 7 columns):\n",
      " #   Column                        Non-Null Count  Dtype  \n",
      "---  ------                        --------------  -----  \n",
      " 0   Average User Rating           1563 non-null   float64\n",
      " 1   User Rating Count             1563 non-null   float64\n",
      " 2   Price                         1563 non-null   float64\n",
      " 3   Age Rating                    1563 non-null   int32  \n",
      " 4   Size                          1563 non-null   float64\n",
      " 5   Genres                        1563 non-null   object \n",
      " 6   Current Version Release Date  1563 non-null   object \n",
      "dtypes: float64(4), int32(1), object(2)\n",
      "memory usage: 91.6+ KB\n"
     ]
    }
   ],
   "source": [
    "games.info()"
   ]
  },
  {
   "cell_type": "code",
   "execution_count": 15,
   "metadata": {},
   "outputs": [
    {
     "data": {
      "text/html": [
       "<div>\n",
       "<style scoped>\n",
       "    .dataframe tbody tr th:only-of-type {\n",
       "        vertical-align: middle;\n",
       "    }\n",
       "\n",
       "    .dataframe tbody tr th {\n",
       "        vertical-align: top;\n",
       "    }\n",
       "\n",
       "    .dataframe thead th {\n",
       "        text-align: right;\n",
       "    }\n",
       "</style>\n",
       "<table border=\"1\" class=\"dataframe\">\n",
       "  <thead>\n",
       "    <tr style=\"text-align: right;\">\n",
       "      <th></th>\n",
       "      <th>Average User Rating</th>\n",
       "      <th>User Rating Count</th>\n",
       "      <th>Price</th>\n",
       "      <th>Age Rating</th>\n",
       "      <th>Size</th>\n",
       "      <th>Genres</th>\n",
       "      <th>Current Version Release Date</th>\n",
       "    </tr>\n",
       "    <tr>\n",
       "      <th>Name</th>\n",
       "      <th></th>\n",
       "      <th></th>\n",
       "      <th></th>\n",
       "      <th></th>\n",
       "      <th></th>\n",
       "      <th></th>\n",
       "      <th></th>\n",
       "    </tr>\n",
       "  </thead>\n",
       "  <tbody>\n",
       "    <tr>\n",
       "      <th>Sudoku</th>\n",
       "      <td>4.0</td>\n",
       "      <td>0.003553</td>\n",
       "      <td>2.99</td>\n",
       "      <td>4</td>\n",
       "      <td>15.119141</td>\n",
       "      <td>(Games, Puzzle, Strategy)</td>\n",
       "      <td>(05, 2017)</td>\n",
       "    </tr>\n",
       "    <tr>\n",
       "      <th>Morocco</th>\n",
       "      <td>3.0</td>\n",
       "      <td>0.008376</td>\n",
       "      <td>0.00</td>\n",
       "      <td>4</td>\n",
       "      <td>0.643555</td>\n",
       "      <td>(Board, Games, Strategy)</td>\n",
       "      <td>(09, 2017)</td>\n",
       "    </tr>\n",
       "    <tr>\n",
       "      <th>Sudoku (Free)</th>\n",
       "      <td>3.5</td>\n",
       "      <td>0.190394</td>\n",
       "      <td>0.00</td>\n",
       "      <td>4</td>\n",
       "      <td>20.553711</td>\n",
       "      <td>(Games, Puzzle, Strategy)</td>\n",
       "      <td>(05, 2017)</td>\n",
       "    </tr>\n",
       "    <tr>\n",
       "      <th>Lumen Lite</th>\n",
       "      <td>3.5</td>\n",
       "      <td>0.005072</td>\n",
       "      <td>0.00</td>\n",
       "      <td>4</td>\n",
       "      <td>6.758121</td>\n",
       "      <td>(Games, Puzzle, Strategy)</td>\n",
       "      <td>(11, 2008)</td>\n",
       "    </tr>\n",
       "    <tr>\n",
       "      <th>BubblePop</th>\n",
       "      <td>3.0</td>\n",
       "      <td>0.000526</td>\n",
       "      <td>0.00</td>\n",
       "      <td>4</td>\n",
       "      <td>0.805862</td>\n",
       "      <td>(Entertainment, Games, Strategy)</td>\n",
       "      <td>(07, 2009)</td>\n",
       "    </tr>\n",
       "  </tbody>\n",
       "</table>\n",
       "</div>"
      ],
      "text/plain": [
       "               Average User Rating  User Rating Count  Price  Age Rating  \\\n",
       "Name                                                                       \n",
       "Sudoku                         4.0           0.003553   2.99           4   \n",
       "Morocco                        3.0           0.008376   0.00           4   \n",
       "Sudoku (Free)                  3.5           0.190394   0.00           4   \n",
       "Lumen Lite                     3.5           0.005072   0.00           4   \n",
       "BubblePop                      3.0           0.000526   0.00           4   \n",
       "\n",
       "                    Size                            Genres  \\\n",
       "Name                                                         \n",
       "Sudoku         15.119141         (Games, Puzzle, Strategy)   \n",
       "Morocco         0.643555          (Board, Games, Strategy)   \n",
       "Sudoku (Free)  20.553711         (Games, Puzzle, Strategy)   \n",
       "Lumen Lite      6.758121         (Games, Puzzle, Strategy)   \n",
       "BubblePop       0.805862  (Entertainment, Games, Strategy)   \n",
       "\n",
       "              Current Version Release Date  \n",
       "Name                                        \n",
       "Sudoku                          (05, 2017)  \n",
       "Morocco                         (09, 2017)  \n",
       "Sudoku (Free)                   (05, 2017)  \n",
       "Lumen Lite                      (11, 2008)  \n",
       "BubblePop                       (07, 2009)  "
      ]
     },
     "execution_count": 15,
     "metadata": {},
     "output_type": "execute_result"
    }
   ],
   "source": [
    "games.head()"
   ]
  },
  {
   "cell_type": "markdown",
   "metadata": {},
   "source": [
    "So, here we are done with the data preprocessing. Let's start analysing our data."
   ]
  },
  {
   "cell_type": "code",
   "execution_count": 16,
   "metadata": {},
   "outputs": [
    {
     "data": {
      "text/plain": [
       "<seaborn.axisgrid.JointGrid at 0x232b3a20d48>"
      ]
     },
     "execution_count": 16,
     "metadata": {},
     "output_type": "execute_result"
    },
    {
     "data": {
      "image/png": "[encoded data removed]",
      "text/plain": [
       "<Figure size 432x432 with 3 Axes>"
      ]
     },
     "metadata": {
      "needs_background": "light"
     },
     "output_type": "display_data"
    }
   ],
   "source": [
    "sns.jointplot('Average User Rating', 'Size', games)"
   ]
  },
  {
   "cell_type": "code",
   "execution_count": 17,
   "metadata": {},
   "outputs": [
    {
     "data": {
      "text/plain": [
       "<seaborn.axisgrid.JointGrid at 0x232b3f67ec8>"
      ]
     },
     "execution_count": 17,
     "metadata": {},
     "output_type": "execute_result"
    },
    {
     "data": {
      "image/png": "[encoded data removed]",
      "text/plain": [
       "<Figure size 432x432 with 3 Axes>"
      ]
     },
     "metadata": {
      "needs_background": "light"
     },
     "output_type": "display_data"
    }
   ],
   "source": [
    "sns.jointplot('Average User Rating', 'Price', games)"
   ]
  },
  {
   "cell_type": "markdown",
   "metadata": {},
   "source": [
    "Grouping the data by Genres to find out the best genre. 1. Sum the User Rating Count 2. Average the other Columns."
   ]
  },
  {
   "cell_type": "code",
   "execution_count": 18,
   "metadata": {},
   "outputs": [],
   "source": [
    "count = games.drop(['Price','Size','Age Rating','Average User Rating'], 1).groupby('Genres').sum()"
   ]
  },
  {
   "cell_type": "code",
   "execution_count": 19,
   "metadata": {},
   "outputs": [],
   "source": [
    "games_genre = games.drop('User Rating Count',1).groupby('Genres').mean()"
   ]
  },
  {
   "cell_type": "code",
   "execution_count": 20,
   "metadata": {
    "scrolled": false
   },
   "outputs": [],
   "source": [
    "Genre_Groups = games_genre.join(count,on = 'Genres').sort_values('User Rating Count',0,False)"
   ]
  },
  {
   "cell_type": "markdown",
   "metadata": {},
   "source": [
    "Cleaning the data further(removing insignificant Genres)."
   ]
  },
  {
   "cell_type": "code",
   "execution_count": 21,
   "metadata": {},
   "outputs": [],
   "source": [
    "Genre_Groups = Genre_Groups[Genre_Groups['User Rating Count']>0.1]\n",
    "Genre_Groups = Genre_Groups[Genre_Groups['Average User Rating']>4].reset_index()"
   ]
  },
  {
   "cell_type": "code",
   "execution_count": 22,
   "metadata": {},
   "outputs": [
    {
     "data": {
      "text/html": [
       "<div>\n",
       "<style scoped>\n",
       "    .dataframe tbody tr th:only-of-type {\n",
       "        vertical-align: middle;\n",
       "    }\n",
       "\n",
       "    .dataframe tbody tr th {\n",
       "        vertical-align: top;\n",
       "    }\n",
       "\n",
       "    .dataframe thead th {\n",
       "        text-align: right;\n",
       "    }\n",
       "</style>\n",
       "<table border=\"1\" class=\"dataframe\">\n",
       "  <thead>\n",
       "    <tr style=\"text-align: right;\">\n",
       "      <th></th>\n",
       "      <th>Genres</th>\n",
       "      <th>Average User Rating</th>\n",
       "      <th>Price</th>\n",
       "      <th>Age Rating</th>\n",
       "      <th>Size</th>\n",
       "      <th>User Rating Count</th>\n",
       "    </tr>\n",
       "  </thead>\n",
       "  <tbody>\n",
       "    <tr>\n",
       "      <th>0</th>\n",
       "      <td>(Action, Entertainment, Games, Strategy)</td>\n",
       "      <td>4.298295</td>\n",
       "      <td>0.764602</td>\n",
       "      <td>8.971591</td>\n",
       "      <td>226.026698</td>\n",
       "      <td>7.283026</td>\n",
       "    </tr>\n",
       "    <tr>\n",
       "      <th>1</th>\n",
       "      <td>(Entertainment, Games, Simulation, Strategy)</td>\n",
       "      <td>4.345238</td>\n",
       "      <td>0.469107</td>\n",
       "      <td>7.208333</td>\n",
       "      <td>227.871063</td>\n",
       "      <td>2.668175</td>\n",
       "    </tr>\n",
       "    <tr>\n",
       "      <th>2</th>\n",
       "      <td>(Action, Games, Strategy)</td>\n",
       "      <td>4.339844</td>\n",
       "      <td>0.350313</td>\n",
       "      <td>10.171875</td>\n",
       "      <td>343.709687</td>\n",
       "      <td>2.521442</td>\n",
       "    </tr>\n",
       "    <tr>\n",
       "      <th>3</th>\n",
       "      <td>(Games, Simulation, Strategy)</td>\n",
       "      <td>4.393382</td>\n",
       "      <td>0.725956</td>\n",
       "      <td>8.500000</td>\n",
       "      <td>234.128633</td>\n",
       "      <td>1.687343</td>\n",
       "    </tr>\n",
       "    <tr>\n",
       "      <th>4</th>\n",
       "      <td>(Games, Role Playing, Strategy)</td>\n",
       "      <td>4.415929</td>\n",
       "      <td>0.582566</td>\n",
       "      <td>10.238938</td>\n",
       "      <td>440.804103</td>\n",
       "      <td>1.268971</td>\n",
       "    </tr>\n",
       "    <tr>\n",
       "      <th>5</th>\n",
       "      <td>(Entertainment, Games, Role Playing, Strategy)</td>\n",
       "      <td>4.333333</td>\n",
       "      <td>0.421707</td>\n",
       "      <td>9.325203</td>\n",
       "      <td>258.163763</td>\n",
       "      <td>1.036681</td>\n",
       "    </tr>\n",
       "    <tr>\n",
       "      <th>6</th>\n",
       "      <td>(Casual, Entertainment, Games, Strategy)</td>\n",
       "      <td>4.296296</td>\n",
       "      <td>0.147407</td>\n",
       "      <td>6.740741</td>\n",
       "      <td>159.122255</td>\n",
       "      <td>0.893880</td>\n",
       "    </tr>\n",
       "    <tr>\n",
       "      <th>7</th>\n",
       "      <td>(Board, Entertainment, Games, Strategy)</td>\n",
       "      <td>4.094737</td>\n",
       "      <td>1.585579</td>\n",
       "      <td>5.610526</td>\n",
       "      <td>127.158575</td>\n",
       "      <td>0.854351</td>\n",
       "    </tr>\n",
       "    <tr>\n",
       "      <th>8</th>\n",
       "      <td>(Games, Puzzle, Strategy)</td>\n",
       "      <td>4.237705</td>\n",
       "      <td>0.685902</td>\n",
       "      <td>6.426230</td>\n",
       "      <td>119.739135</td>\n",
       "      <td>0.810395</td>\n",
       "    </tr>\n",
       "    <tr>\n",
       "      <th>9</th>\n",
       "      <td>(Adventure, Entertainment, Games, Strategy)</td>\n",
       "      <td>4.166667</td>\n",
       "      <td>0.207500</td>\n",
       "      <td>7.291667</td>\n",
       "      <td>144.715601</td>\n",
       "      <td>0.689598</td>\n",
       "    </tr>\n",
       "    <tr>\n",
       "      <th>10</th>\n",
       "      <td>(Entertainment, Games, Puzzle, Strategy)</td>\n",
       "      <td>4.127273</td>\n",
       "      <td>0.352818</td>\n",
       "      <td>4.654545</td>\n",
       "      <td>82.953870</td>\n",
       "      <td>0.642944</td>\n",
       "    </tr>\n",
       "    <tr>\n",
       "      <th>11</th>\n",
       "      <td>(Card, Entertainment, Games, Strategy)</td>\n",
       "      <td>4.237705</td>\n",
       "      <td>0.653279</td>\n",
       "      <td>6.688525</td>\n",
       "      <td>178.457021</td>\n",
       "      <td>0.556607</td>\n",
       "    </tr>\n",
       "    <tr>\n",
       "      <th>12</th>\n",
       "      <td>(Games, Sports, Sports, Strategy)</td>\n",
       "      <td>4.333333</td>\n",
       "      <td>0.000000</td>\n",
       "      <td>5.083333</td>\n",
       "      <td>223.117594</td>\n",
       "      <td>0.354639</td>\n",
       "    </tr>\n",
       "    <tr>\n",
       "      <th>13</th>\n",
       "      <td>(Adventure, Games, Strategy)</td>\n",
       "      <td>4.200000</td>\n",
       "      <td>0.718000</td>\n",
       "      <td>10.440000</td>\n",
       "      <td>288.061686</td>\n",
       "      <td>0.346376</td>\n",
       "    </tr>\n",
       "    <tr>\n",
       "      <th>14</th>\n",
       "      <td>(Entertainment, Family, Games, Strategy)</td>\n",
       "      <td>4.635135</td>\n",
       "      <td>0.134865</td>\n",
       "      <td>6.567568</td>\n",
       "      <td>112.150397</td>\n",
       "      <td>0.341737</td>\n",
       "    </tr>\n",
       "    <tr>\n",
       "      <th>15</th>\n",
       "      <td>(Card, Games, Strategy)</td>\n",
       "      <td>4.318182</td>\n",
       "      <td>0.135909</td>\n",
       "      <td>8.318182</td>\n",
       "      <td>320.272313</td>\n",
       "      <td>0.238249</td>\n",
       "    </tr>\n",
       "    <tr>\n",
       "      <th>16</th>\n",
       "      <td>(Family, Games, Strategy)</td>\n",
       "      <td>4.041667</td>\n",
       "      <td>0.330000</td>\n",
       "      <td>6.083333</td>\n",
       "      <td>65.029297</td>\n",
       "      <td>0.228990</td>\n",
       "    </tr>\n",
       "    <tr>\n",
       "      <th>17</th>\n",
       "      <td>(Games, Role Playing, Social Networking, Strat...</td>\n",
       "      <td>4.150000</td>\n",
       "      <td>0.000000</td>\n",
       "      <td>11.300000</td>\n",
       "      <td>150.059180</td>\n",
       "      <td>0.213135</td>\n",
       "    </tr>\n",
       "    <tr>\n",
       "      <th>18</th>\n",
       "      <td>(Finance, Games, Simulation, Strategy)</td>\n",
       "      <td>4.214286</td>\n",
       "      <td>0.141429</td>\n",
       "      <td>5.857143</td>\n",
       "      <td>113.286830</td>\n",
       "      <td>0.208161</td>\n",
       "    </tr>\n",
       "    <tr>\n",
       "      <th>19</th>\n",
       "      <td>(Casual, Games, Strategy)</td>\n",
       "      <td>4.441176</td>\n",
       "      <td>1.173529</td>\n",
       "      <td>8.000000</td>\n",
       "      <td>93.500959</td>\n",
       "      <td>0.197720</td>\n",
       "    </tr>\n",
       "    <tr>\n",
       "      <th>20</th>\n",
       "      <td>(Games, Strategy)</td>\n",
       "      <td>4.478261</td>\n",
       "      <td>0.346522</td>\n",
       "      <td>9.826087</td>\n",
       "      <td>206.785161</td>\n",
       "      <td>0.195007</td>\n",
       "    </tr>\n",
       "    <tr>\n",
       "      <th>21</th>\n",
       "      <td>(Board, Games, Strategy)</td>\n",
       "      <td>4.030303</td>\n",
       "      <td>1.482121</td>\n",
       "      <td>6.515152</td>\n",
       "      <td>150.171819</td>\n",
       "      <td>0.144698</td>\n",
       "    </tr>\n",
       "  </tbody>\n",
       "</table>\n",
       "</div>"
      ],
      "text/plain": [
       "                                               Genres  Average User Rating  \\\n",
       "0            (Action, Entertainment, Games, Strategy)             4.298295   \n",
       "1        (Entertainment, Games, Simulation, Strategy)             4.345238   \n",
       "2                           (Action, Games, Strategy)             4.339844   \n",
       "3                       (Games, Simulation, Strategy)             4.393382   \n",
       "4                     (Games, Role Playing, Strategy)             4.415929   \n",
       "5      (Entertainment, Games, Role Playing, Strategy)             4.333333   \n",
       "6            (Casual, Entertainment, Games, Strategy)             4.296296   \n",
       "7             (Board, Entertainment, Games, Strategy)             4.094737   \n",
       "8                           (Games, Puzzle, Strategy)             4.237705   \n",
       "9         (Adventure, Entertainment, Games, Strategy)             4.166667   \n",
       "10           (Entertainment, Games, Puzzle, Strategy)             4.127273   \n",
       "11             (Card, Entertainment, Games, Strategy)             4.237705   \n",
       "12                  (Games, Sports, Sports, Strategy)             4.333333   \n",
       "13                       (Adventure, Games, Strategy)             4.200000   \n",
       "14           (Entertainment, Family, Games, Strategy)             4.635135   \n",
       "15                            (Card, Games, Strategy)             4.318182   \n",
       "16                          (Family, Games, Strategy)             4.041667   \n",
       "17  (Games, Role Playing, Social Networking, Strat...             4.150000   \n",
       "18             (Finance, Games, Simulation, Strategy)             4.214286   \n",
       "19                          (Casual, Games, Strategy)             4.441176   \n",
       "20                                  (Games, Strategy)             4.478261   \n",
       "21                           (Board, Games, Strategy)             4.030303   \n",
       "\n",
       "       Price  Age Rating        Size  User Rating Count  \n",
       "0   0.764602    8.971591  226.026698           7.283026  \n",
       "1   0.469107    7.208333  227.871063           2.668175  \n",
       "2   0.350313   10.171875  343.709687           2.521442  \n",
       "3   0.725956    8.500000  234.128633           1.687343  \n",
       "4   0.582566   10.238938  440.804103           1.268971  \n",
       "5   0.421707    9.325203  258.163763           1.036681  \n",
       "6   0.147407    6.740741  159.122255           0.893880  \n",
       "7   1.585579    5.610526  127.158575           0.854351  \n",
       "8   0.685902    6.426230  119.739135           0.810395  \n",
       "9   0.207500    7.291667  144.715601           0.689598  \n",
       "10  0.352818    4.654545   82.953870           0.642944  \n",
       "11  0.653279    6.688525  178.457021           0.556607  \n",
       "12  0.000000    5.083333  223.117594           0.354639  \n",
       "13  0.718000   10.440000  288.061686           0.346376  \n",
       "14  0.134865    6.567568  112.150397           0.341737  \n",
       "15  0.135909    8.318182  320.272313           0.238249  \n",
       "16  0.330000    6.083333   65.029297           0.228990  \n",
       "17  0.000000   11.300000  150.059180           0.213135  \n",
       "18  0.141429    5.857143  113.286830           0.208161  \n",
       "19  1.173529    8.000000   93.500959           0.197720  \n",
       "20  0.346522    9.826087  206.785161           0.195007  \n",
       "21  1.482121    6.515152  150.171819           0.144698  "
      ]
     },
     "execution_count": 22,
     "metadata": {},
     "output_type": "execute_result"
    }
   ],
   "source": [
    "Genre_Groups"
   ]
  },
  {
   "cell_type": "markdown",
   "metadata": {},
   "source": [
    "Note: As we can see some of the genres are kind of subsets of others, we can combine them. We would need to code for this."
   ]
  },
  {
   "cell_type": "markdown",
   "metadata": {},
   "source": [
    "###### From this data, We can see that 'Action, Entertainment, Games, Strategy' is the most popular Genre with 4.3 Avg User Rating."
   ]
  },
  {
   "cell_type": "code",
   "execution_count": 23,
   "metadata": {
    "scrolled": false
   },
   "outputs": [
    {
     "data": {
      "text/plain": [
       "<matplotlib.axes._subplots.AxesSubplot at 0x232b4160e48>"
      ]
     },
     "execution_count": 23,
     "metadata": {},
     "output_type": "execute_result"
    },
    {
     "data": {
      "image/png": "[encoded data removed]",
      "text/plain": [
       "<Figure size 720x432 with 1 Axes>"
      ]
     },
     "metadata": {
      "needs_background": "light"
     },
     "output_type": "display_data"
    }
   ],
   "source": [
    "plt.figure(figsize=(10,6))\n",
    "sns.stripplot('Average User Rating','Genres',  data = Genre_Groups)"
   ]
  },
  {
   "cell_type": "markdown",
   "metadata": {},
   "source": [
    "###### Also, the top five Genres have significantly good Avg User Ratings around 4.3 to 4.5."
   ]
  },
  {
   "cell_type": "code",
   "execution_count": 24,
   "metadata": {},
   "outputs": [
    {
     "data": {
      "text/plain": [
       "<seaborn.axisgrid.JointGrid at 0x232b4249d88>"
      ]
     },
     "execution_count": 24,
     "metadata": {},
     "output_type": "execute_result"
    },
    {
     "data": {
      "image/png": "[encoded data removed]",
      "text/plain": [
       "<Figure size 432x432 with 3 Axes>"
      ]
     },
     "metadata": {
      "needs_background": "light"
     },
     "output_type": "display_data"
    }
   ],
   "source": [
    "sns.jointplot('Price', 'Average User Rating', games)"
   ]
  },
  {
   "cell_type": "code",
   "execution_count": 30,
   "metadata": {},
   "outputs": [
    {
     "data": {
      "text/plain": [
       "<seaborn.axisgrid.JointGrid at 0x232b85d7b08>"
      ]
     },
     "execution_count": 30,
     "metadata": {},
     "output_type": "execute_result"
    },
    {
     "data": {
      "image/png": "[encoded data removed]",
      "text/plain": [
       "<Figure size 432x432 with 3 Axes>"
      ]
     },
     "metadata": {
      "needs_background": "light"
     },
     "output_type": "display_data"
    }
   ],
   "source": [
    "sns.jointplot('Price', 'User Rating Count', games)"
   ]
  },
  {
   "cell_type": "markdown",
   "metadata": {},
   "source": [
    "###### from the graph above, we can observe that free or unpaid games are most popular with high ratings."
   ]
  },
  {
   "cell_type": "markdown",
   "metadata": {},
   "source": [
    "###### So we can conclude that:\n",
    "1. Action Strategy games are the most popular. Simulation and Role-Playing Strategy games are also some popular genres with significant popularity.\n",
    "2. The above genres have good Average User Ratings around 4.3 to 4.5.\n",
    "3. Average size of the games of most popular genres is around 200MB.\n",
    "4. All the popular games are free. The average price of the above genres is less than a dollar."
   ]
  }
 ],
 "metadata": {
  "kernelspec": {
   "display_name": "Python 3",
   "language": "python",
   "name": "python3"
  },
  "language_info": {
   "codemirror_mode": {
    "name": "ipython",
    "version": 3
   },
   "file_extension": ".py",
   "mimetype": "text/x-python",
   "name": "python",
   "nbconvert_exporter": "python",
   "pygments_lexer": "ipython3",
   "version": "3.7.6"
  }
 },
 "nbformat": 4,
 "nbformat_minor": 2
}
